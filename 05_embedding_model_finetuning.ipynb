{
 "cells": [
  {
   "cell_type": "markdown",
   "metadata": {},
   "source": [
    "refers to \n",
    "\n",
    "[05_embedding_model_finetuning](sentence_embedding_finetuning/dataset_creation_and_model_finetuning.ipynb)"
   ]
  }
 ],
 "metadata": {
  "language_info": {
   "name": "python"
  }
 },
 "nbformat": 4,
 "nbformat_minor": 2
}
