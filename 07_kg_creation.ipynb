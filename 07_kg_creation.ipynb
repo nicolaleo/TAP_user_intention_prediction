{
 "cells": [
  {
   "cell_type": "markdown",
   "metadata": {},
   "source": [
    "### ifttt KG total \n",
    "<img src=\"figures/ifttt_kg_total.png\" width=1200>"
   ]
  },
  {
   "cell_type": "markdown",
   "metadata": {},
   "source": [
    "### ifttt nodes_and_edges_description\n",
    "<img src=\"figures/ifttt_nodes_and_edges_description.png\" width=200>"
   ]
  },
  {
   "cell_type": "markdown",
   "metadata": {},
   "source": [
    "### focus on action \"WeMo Smart Plug\"\n",
    "<img src=\"figures/ifttt_kg_focus.png\" width=1200>"
   ]
  }
 ],
 "metadata": {
  "language_info": {
   "name": "python"
  }
 },
 "nbformat": 4,
 "nbformat_minor": 2
}
