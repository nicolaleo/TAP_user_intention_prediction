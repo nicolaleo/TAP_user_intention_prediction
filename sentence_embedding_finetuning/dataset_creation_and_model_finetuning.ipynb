{
 "cells": [
  {
   "cell_type": "code",
   "execution_count": null,
   "metadata": {},
   "outputs": [],
   "source": [
    "# https://sbert.net/docs/sentence_transformer/training_overview.html"
   ]
  },
  {
   "cell_type": "code",
   "execution_count": 1,
   "metadata": {},
   "outputs": [],
   "source": [
    "import pandas as pd\n",
    "import torch\n",
    "dataset_path=\"../dataset/Step4_Single_Trigger_IoT_Rules.csv\""
   ]
  },
  {
   "cell_type": "code",
   "execution_count": 2,
   "metadata": {},
   "outputs": [
    {
     "data": {
      "text/html": [
       "<div>\n",
       "<style scoped>\n",
       "    .dataframe tbody tr th:only-of-type {\n",
       "        vertical-align: middle;\n",
       "    }\n",
       "\n",
       "    .dataframe tbody tr th {\n",
       "        vertical-align: top;\n",
       "    }\n",
       "\n",
       "    .dataframe thead th {\n",
       "        text-align: right;\n",
       "    }\n",
       "</style>\n",
       "<table border=\"1\" class=\"dataframe\">\n",
       "  <thead>\n",
       "    <tr style=\"text-align: right;\">\n",
       "      <th></th>\n",
       "      <th>Unnamed: 0</th>\n",
       "      <th>by_service_owner</th>\n",
       "      <th>channels</th>\n",
       "      <th>description</th>\n",
       "      <th>friendly_id</th>\n",
       "      <th>id</th>\n",
       "      <th>installs_count</th>\n",
       "      <th>name</th>\n",
       "      <th>permissions</th>\n",
       "      <th>pro_features</th>\n",
       "      <th>...</th>\n",
       "      <th>services</th>\n",
       "      <th>speed</th>\n",
       "      <th>uniq_permissions</th>\n",
       "      <th>services_len</th>\n",
       "      <th>service_triggers</th>\n",
       "      <th>service_actions</th>\n",
       "      <th>triggers_category</th>\n",
       "      <th>actions_category</th>\n",
       "      <th>goal</th>\n",
       "      <th>operation</th>\n",
       "    </tr>\n",
       "  </thead>\n",
       "  <tbody>\n",
       "    <tr>\n",
       "      <th>0</th>\n",
       "      <td>6913</td>\n",
       "      <td>True</td>\n",
       "      <td>[{'name': 'Button widget', 'module_name': 'do_...</td>\n",
       "      <td>NaN</td>\n",
       "      <td>wYf8ceZQ-turn-on-off-your-lights-with-one-tap-...</td>\n",
       "      <td>wYf8ceZQ</td>\n",
       "      <td>164055.0</td>\n",
       "      <td>Turn on/off your lights with one tap on your p...</td>\n",
       "      <td>[{'id': '/triggers/do_button.do_button_new_com...</td>\n",
       "      <td>False</td>\n",
       "      <td>...</td>\n",
       "      <td>['do_button', 'hue']</td>\n",
       "      <td>Realtime Applets usually run within 10 seconds</td>\n",
       "      <td>[{'id': '/triggers/do_button.do_button_new_com...</td>\n",
       "      <td>2</td>\n",
       "      <td>Button widget</td>\n",
       "      <td>Philips Hue</td>\n",
       "      <td>Mobile devices &amp; accessories</td>\n",
       "      <td>Lighting</td>\n",
       "      <td>['Ambient Luminance']</td>\n",
       "      <td>Explicit Control (Button)</td>\n",
       "    </tr>\n",
       "    <tr>\n",
       "      <th>1</th>\n",
       "      <td>11608</td>\n",
       "      <td>True</td>\n",
       "      <td>[{'name': 'Weather Underground', 'module_name'...</td>\n",
       "      <td>Never be left in the dark. Whenever the sun st...</td>\n",
       "      <td>PVkgiLYy-automatically-turn-your-lights-on-at-...</td>\n",
       "      <td>PVkgiLYy</td>\n",
       "      <td>144011.0</td>\n",
       "      <td>Automatically turn your lights on at sunset</td>\n",
       "      <td>[{'id': '/triggers/weather.sun_sets', 'name': ...</td>\n",
       "      <td>False</td>\n",
       "      <td>...</td>\n",
       "      <td>['weather', 'hue']</td>\n",
       "      <td>Polling Applets usually run within 1 hour</td>\n",
       "      <td>[{'id': '/triggers/weather.sun_sets', 'name': ...</td>\n",
       "      <td>2</td>\n",
       "      <td>Weather Underground</td>\n",
       "      <td>Philips Hue</td>\n",
       "      <td>Weather</td>\n",
       "      <td>Lighting</td>\n",
       "      <td>['Ambient Luminance']</td>\n",
       "      <td>Time Trigger</td>\n",
       "    </tr>\n",
       "    <tr>\n",
       "      <th>2</th>\n",
       "      <td>27384</td>\n",
       "      <td>True</td>\n",
       "      <td>[{'name': 'Location', 'module_name': 'location...</td>\n",
       "      <td>Center the map on your home's location, and yo...</td>\n",
       "      <td>HTak4X5f-turn-your-lights-on-automatically-as-...</td>\n",
       "      <td>HTak4X5f</td>\n",
       "      <td>69594.0</td>\n",
       "      <td>Turn your lights on automatically as you arriv...</td>\n",
       "      <td>[{'id': '/triggers/location.enter_region_locat...</td>\n",
       "      <td>False</td>\n",
       "      <td>...</td>\n",
       "      <td>['location', 'hue']</td>\n",
       "      <td>Realtime Applets usually run within 10 seconds</td>\n",
       "      <td>[{'id': '/triggers/location.enter_region_locat...</td>\n",
       "      <td>2</td>\n",
       "      <td>Location</td>\n",
       "      <td>Philips Hue</td>\n",
       "      <td>Location</td>\n",
       "      <td>Lighting</td>\n",
       "      <td>['Ambient Luminance']</td>\n",
       "      <td>Spatial Trigger</td>\n",
       "    </tr>\n",
       "    <tr>\n",
       "      <th>3</th>\n",
       "      <td>2745</td>\n",
       "      <td>True</td>\n",
       "      <td>[{'name': 'Amazon Alexa', 'module_name': 'amaz...</td>\n",
       "      <td>Choose a phrase to control your Harmony Home w...</td>\n",
       "      <td>sHYgpAeS-tell-alexa-to-start-a-harmony-activity</td>\n",
       "      <td>sHYgpAeS</td>\n",
       "      <td>66448.0</td>\n",
       "      <td>Tell Alexa to start a Harmony activity</td>\n",
       "      <td>[{'id': '/triggers/amazon_alexa.custom_utteran...</td>\n",
       "      <td>False</td>\n",
       "      <td>...</td>\n",
       "      <td>['amazon_alexa', 'harmony']</td>\n",
       "      <td>Realtime Applets usually run within 10 seconds</td>\n",
       "      <td>[{'id': '/triggers/amazon_alexa.custom_utteran...</td>\n",
       "      <td>2</td>\n",
       "      <td>Amazon Alexa</td>\n",
       "      <td>Harmony</td>\n",
       "      <td>Voice assistants</td>\n",
       "      <td>Smart hubs &amp; systems</td>\n",
       "      <td>['Control Hub']</td>\n",
       "      <td>Explicit Control (Voice)</td>\n",
       "    </tr>\n",
       "    <tr>\n",
       "      <th>4</th>\n",
       "      <td>27491</td>\n",
       "      <td>True</td>\n",
       "      <td>[{'name': 'Amazon Alexa', 'module_name': 'amaz...</td>\n",
       "      <td>Add some visual flair to your countdown. Tip: ...</td>\n",
       "      <td>funBgceh-blink-your-hue-lights-when-your-amazo...</td>\n",
       "      <td>funBgceh</td>\n",
       "      <td>47628.0</td>\n",
       "      <td>Blink your Hue lights when your Amazon Alexa t...</td>\n",
       "      <td>[{'id': '/triggers/amazon_alexa.timer_fired', ...</td>\n",
       "      <td>False</td>\n",
       "      <td>...</td>\n",
       "      <td>['amazon_alexa', 'hue']</td>\n",
       "      <td>Realtime Applets usually run within 10 seconds</td>\n",
       "      <td>[{'id': '/triggers/amazon_alexa.timer_fired', ...</td>\n",
       "      <td>2</td>\n",
       "      <td>Amazon Alexa</td>\n",
       "      <td>Philips Hue</td>\n",
       "      <td>Voice assistants</td>\n",
       "      <td>Lighting</td>\n",
       "      <td>['Alert User']</td>\n",
       "      <td>Other Trigger</td>\n",
       "    </tr>\n",
       "    <tr>\n",
       "      <th>...</th>\n",
       "      <td>...</td>\n",
       "      <td>...</td>\n",
       "      <td>...</td>\n",
       "      <td>...</td>\n",
       "      <td>...</td>\n",
       "      <td>...</td>\n",
       "      <td>...</td>\n",
       "      <td>...</td>\n",
       "      <td>...</td>\n",
       "      <td>...</td>\n",
       "      <td>...</td>\n",
       "      <td>...</td>\n",
       "      <td>...</td>\n",
       "      <td>...</td>\n",
       "      <td>...</td>\n",
       "      <td>...</td>\n",
       "      <td>...</td>\n",
       "      <td>...</td>\n",
       "      <td>...</td>\n",
       "      <td>...</td>\n",
       "      <td>...</td>\n",
       "    </tr>\n",
       "    <tr>\n",
       "      <th>2643</th>\n",
       "      <td>13693</td>\n",
       "      <td>False</td>\n",
       "      <td>[{'name': 'WeMo Light Switch', 'module_name': ...</td>\n",
       "      <td>Long press Wemo Switch = All Hue lights off</td>\n",
       "      <td>qPhRymsC-long-press-wemo-switch-all-hue-lights...</td>\n",
       "      <td>qPhRymsC</td>\n",
       "      <td>10.0</td>\n",
       "      <td>Long press Wemo Switch = All Hue lights off</td>\n",
       "      <td>[{'id': '/triggers/wemo_light_switch.attribute...</td>\n",
       "      <td>False</td>\n",
       "      <td>...</td>\n",
       "      <td>['wemo_light_switch', 'hue']</td>\n",
       "      <td>Polling Applets usually run within 1 hour</td>\n",
       "      <td>[{'id': '/actions/hue.turn_off_all_hue', 'name...</td>\n",
       "      <td>2</td>\n",
       "      <td>WeMo Light Switch</td>\n",
       "      <td>Philips Hue</td>\n",
       "      <td>Lighting</td>\n",
       "      <td>Lighting</td>\n",
       "      <td>['Ambient Luminance']</td>\n",
       "      <td>Other Trigger</td>\n",
       "    </tr>\n",
       "    <tr>\n",
       "      <th>2644</th>\n",
       "      <td>9959</td>\n",
       "      <td>False</td>\n",
       "      <td>[{'name': 'RSS Feed', 'module_name': 'feed', '...</td>\n",
       "      <td>When Adafruit releases a new product, blink!</td>\n",
       "      <td>Ktup6MV2-when-adafruit-releases-a-new-product-...</td>\n",
       "      <td>Ktup6MV2</td>\n",
       "      <td>10.0</td>\n",
       "      <td>When Adafruit releases a new product, blink!</td>\n",
       "      <td>[{'id': '/triggers/feed.new_feed_item_matches'...</td>\n",
       "      <td>False</td>\n",
       "      <td>...</td>\n",
       "      <td>['feed', 'blink1']</td>\n",
       "      <td>Polling Applets usually run within 1 hour</td>\n",
       "      <td>[{'id': '/triggers/feed.new_feed_item_matches'...</td>\n",
       "      <td>2</td>\n",
       "      <td>RSS Feed</td>\n",
       "      <td>blink(1)</td>\n",
       "      <td>News &amp; information</td>\n",
       "      <td>Routers &amp; computer accessories</td>\n",
       "      <td>['Alert User']</td>\n",
       "      <td>Other Trigger</td>\n",
       "    </tr>\n",
       "    <tr>\n",
       "      <th>2645</th>\n",
       "      <td>9958</td>\n",
       "      <td>False</td>\n",
       "      <td>[{'name': 'Date &amp; Time', 'module_name': 'date_...</td>\n",
       "      <td>Stop  procrastination.</td>\n",
       "      <td>btpdY3TR-being-more-productive-and-goal-driven</td>\n",
       "      <td>btpdY3TR</td>\n",
       "      <td>10.0</td>\n",
       "      <td>Being more productive and goal driven</td>\n",
       "      <td>[{'id': '/triggers/date_and_time.every_hour_at...</td>\n",
       "      <td>False</td>\n",
       "      <td>...</td>\n",
       "      <td>['date_and_time', 'pavlok']</td>\n",
       "      <td>Realtime Applets usually run within a few seconds</td>\n",
       "      <td>[{'id': '/triggers/date_and_time.every_hour_at...</td>\n",
       "      <td>2</td>\n",
       "      <td>Date &amp; Time</td>\n",
       "      <td>PAVLOK</td>\n",
       "      <td>Calendars &amp; scheduling</td>\n",
       "      <td>Health &amp; fitness</td>\n",
       "      <td>['Other']</td>\n",
       "      <td>Time Trigger</td>\n",
       "    </tr>\n",
       "    <tr>\n",
       "      <th>2646</th>\n",
       "      <td>18322</td>\n",
       "      <td>False</td>\n",
       "      <td>[{'name': 'Date &amp; Time', 'module_name': 'date_...</td>\n",
       "      <td>White Light on Weekday Mornings</td>\n",
       "      <td>TMQ3AptY-white-light-on-weekday-mornings</td>\n",
       "      <td>TMQ3AptY</td>\n",
       "      <td>10.0</td>\n",
       "      <td>White Light on Weekday Mornings</td>\n",
       "      <td>[{'id': '/triggers/date_and_time.every_weekday...</td>\n",
       "      <td>False</td>\n",
       "      <td>...</td>\n",
       "      <td>['date_and_time', 'hue']</td>\n",
       "      <td>Realtime Applets usually run within a few seconds</td>\n",
       "      <td>[{'id': '/triggers/date_and_time.every_weekday...</td>\n",
       "      <td>2</td>\n",
       "      <td>Date &amp; Time</td>\n",
       "      <td>Philips Hue</td>\n",
       "      <td>Calendars &amp; scheduling</td>\n",
       "      <td>Lighting</td>\n",
       "      <td>['Ambient Atmosphere']</td>\n",
       "      <td>Time Trigger</td>\n",
       "    </tr>\n",
       "    <tr>\n",
       "      <th>2647</th>\n",
       "      <td>12632</td>\n",
       "      <td>False</td>\n",
       "      <td>[{'name': 'Date &amp; Time', 'module_name': 'date_...</td>\n",
       "      <td>This applet will ask Homey for a report on the...</td>\n",
       "      <td>NC5etfLq-power-consumption-report</td>\n",
       "      <td>NC5etfLq</td>\n",
       "      <td>10.0</td>\n",
       "      <td>Power consumption report</td>\n",
       "      <td>[{'id': '/triggers/date_and_time.every_weekday...</td>\n",
       "      <td>False</td>\n",
       "      <td>...</td>\n",
       "      <td>['date_and_time', 'homey']</td>\n",
       "      <td>Realtime Applets usually run within a few seconds</td>\n",
       "      <td>[{'id': '/triggers/date_and_time.every_weekday...</td>\n",
       "      <td>2</td>\n",
       "      <td>Date &amp; Time</td>\n",
       "      <td>Homey</td>\n",
       "      <td>Calendars &amp; scheduling</td>\n",
       "      <td>Smart hubs &amp; systems</td>\n",
       "      <td>['Other']</td>\n",
       "      <td>Time Trigger</td>\n",
       "    </tr>\n",
       "  </tbody>\n",
       "</table>\n",
       "<p>2648 rows × 25 columns</p>\n",
       "</div>"
      ],
      "text/plain": [
       "      Unnamed: 0  by_service_owner  \\\n",
       "0           6913              True   \n",
       "1          11608              True   \n",
       "2          27384              True   \n",
       "3           2745              True   \n",
       "4          27491              True   \n",
       "...          ...               ...   \n",
       "2643       13693             False   \n",
       "2644        9959             False   \n",
       "2645        9958             False   \n",
       "2646       18322             False   \n",
       "2647       12632             False   \n",
       "\n",
       "                                               channels  \\\n",
       "0     [{'name': 'Button widget', 'module_name': 'do_...   \n",
       "1     [{'name': 'Weather Underground', 'module_name'...   \n",
       "2     [{'name': 'Location', 'module_name': 'location...   \n",
       "3     [{'name': 'Amazon Alexa', 'module_name': 'amaz...   \n",
       "4     [{'name': 'Amazon Alexa', 'module_name': 'amaz...   \n",
       "...                                                 ...   \n",
       "2643  [{'name': 'WeMo Light Switch', 'module_name': ...   \n",
       "2644  [{'name': 'RSS Feed', 'module_name': 'feed', '...   \n",
       "2645  [{'name': 'Date & Time', 'module_name': 'date_...   \n",
       "2646  [{'name': 'Date & Time', 'module_name': 'date_...   \n",
       "2647  [{'name': 'Date & Time', 'module_name': 'date_...   \n",
       "\n",
       "                                            description  \\\n",
       "0                                                   NaN   \n",
       "1     Never be left in the dark. Whenever the sun st...   \n",
       "2     Center the map on your home's location, and yo...   \n",
       "3     Choose a phrase to control your Harmony Home w...   \n",
       "4     Add some visual flair to your countdown. Tip: ...   \n",
       "...                                                 ...   \n",
       "2643        Long press Wemo Switch = All Hue lights off   \n",
       "2644       When Adafruit releases a new product, blink!   \n",
       "2645                            Stop  procrastination.    \n",
       "2646                    White Light on Weekday Mornings   \n",
       "2647  This applet will ask Homey for a report on the...   \n",
       "\n",
       "                                            friendly_id        id  \\\n",
       "0     wYf8ceZQ-turn-on-off-your-lights-with-one-tap-...  wYf8ceZQ   \n",
       "1     PVkgiLYy-automatically-turn-your-lights-on-at-...  PVkgiLYy   \n",
       "2     HTak4X5f-turn-your-lights-on-automatically-as-...  HTak4X5f   \n",
       "3       sHYgpAeS-tell-alexa-to-start-a-harmony-activity  sHYgpAeS   \n",
       "4     funBgceh-blink-your-hue-lights-when-your-amazo...  funBgceh   \n",
       "...                                                 ...       ...   \n",
       "2643  qPhRymsC-long-press-wemo-switch-all-hue-lights...  qPhRymsC   \n",
       "2644  Ktup6MV2-when-adafruit-releases-a-new-product-...  Ktup6MV2   \n",
       "2645     btpdY3TR-being-more-productive-and-goal-driven  btpdY3TR   \n",
       "2646           TMQ3AptY-white-light-on-weekday-mornings  TMQ3AptY   \n",
       "2647                  NC5etfLq-power-consumption-report  NC5etfLq   \n",
       "\n",
       "      installs_count                                               name  \\\n",
       "0           164055.0  Turn on/off your lights with one tap on your p...   \n",
       "1           144011.0        Automatically turn your lights on at sunset   \n",
       "2            69594.0  Turn your lights on automatically as you arriv...   \n",
       "3            66448.0             Tell Alexa to start a Harmony activity   \n",
       "4            47628.0  Blink your Hue lights when your Amazon Alexa t...   \n",
       "...              ...                                                ...   \n",
       "2643            10.0        Long press Wemo Switch = All Hue lights off   \n",
       "2644            10.0       When Adafruit releases a new product, blink!   \n",
       "2645            10.0              Being more productive and goal driven   \n",
       "2646            10.0                    White Light on Weekday Mornings   \n",
       "2647            10.0                           Power consumption report   \n",
       "\n",
       "                                            permissions  pro_features  ...  \\\n",
       "0     [{'id': '/triggers/do_button.do_button_new_com...         False  ...   \n",
       "1     [{'id': '/triggers/weather.sun_sets', 'name': ...         False  ...   \n",
       "2     [{'id': '/triggers/location.enter_region_locat...         False  ...   \n",
       "3     [{'id': '/triggers/amazon_alexa.custom_utteran...         False  ...   \n",
       "4     [{'id': '/triggers/amazon_alexa.timer_fired', ...         False  ...   \n",
       "...                                                 ...           ...  ...   \n",
       "2643  [{'id': '/triggers/wemo_light_switch.attribute...         False  ...   \n",
       "2644  [{'id': '/triggers/feed.new_feed_item_matches'...         False  ...   \n",
       "2645  [{'id': '/triggers/date_and_time.every_hour_at...         False  ...   \n",
       "2646  [{'id': '/triggers/date_and_time.every_weekday...         False  ...   \n",
       "2647  [{'id': '/triggers/date_and_time.every_weekday...         False  ...   \n",
       "\n",
       "                          services  \\\n",
       "0             ['do_button', 'hue']   \n",
       "1               ['weather', 'hue']   \n",
       "2              ['location', 'hue']   \n",
       "3      ['amazon_alexa', 'harmony']   \n",
       "4          ['amazon_alexa', 'hue']   \n",
       "...                            ...   \n",
       "2643  ['wemo_light_switch', 'hue']   \n",
       "2644            ['feed', 'blink1']   \n",
       "2645   ['date_and_time', 'pavlok']   \n",
       "2646      ['date_and_time', 'hue']   \n",
       "2647    ['date_and_time', 'homey']   \n",
       "\n",
       "                                                  speed  \\\n",
       "0        Realtime Applets usually run within 10 seconds   \n",
       "1             Polling Applets usually run within 1 hour   \n",
       "2        Realtime Applets usually run within 10 seconds   \n",
       "3        Realtime Applets usually run within 10 seconds   \n",
       "4        Realtime Applets usually run within 10 seconds   \n",
       "...                                                 ...   \n",
       "2643          Polling Applets usually run within 1 hour   \n",
       "2644          Polling Applets usually run within 1 hour   \n",
       "2645  Realtime Applets usually run within a few seconds   \n",
       "2646  Realtime Applets usually run within a few seconds   \n",
       "2647  Realtime Applets usually run within a few seconds   \n",
       "\n",
       "                                       uniq_permissions services_len  \\\n",
       "0     [{'id': '/triggers/do_button.do_button_new_com...            2   \n",
       "1     [{'id': '/triggers/weather.sun_sets', 'name': ...            2   \n",
       "2     [{'id': '/triggers/location.enter_region_locat...            2   \n",
       "3     [{'id': '/triggers/amazon_alexa.custom_utteran...            2   \n",
       "4     [{'id': '/triggers/amazon_alexa.timer_fired', ...            2   \n",
       "...                                                 ...          ...   \n",
       "2643  [{'id': '/actions/hue.turn_off_all_hue', 'name...            2   \n",
       "2644  [{'id': '/triggers/feed.new_feed_item_matches'...            2   \n",
       "2645  [{'id': '/triggers/date_and_time.every_hour_at...            2   \n",
       "2646  [{'id': '/triggers/date_and_time.every_weekday...            2   \n",
       "2647  [{'id': '/triggers/date_and_time.every_weekday...            2   \n",
       "\n",
       "         service_triggers service_actions             triggers_category  \\\n",
       "0           Button widget     Philips Hue  Mobile devices & accessories   \n",
       "1     Weather Underground     Philips Hue                       Weather   \n",
       "2                Location     Philips Hue                      Location   \n",
       "3            Amazon Alexa         Harmony              Voice assistants   \n",
       "4            Amazon Alexa     Philips Hue              Voice assistants   \n",
       "...                   ...             ...                           ...   \n",
       "2643    WeMo Light Switch     Philips Hue                      Lighting   \n",
       "2644             RSS Feed        blink(1)            News & information   \n",
       "2645          Date & Time          PAVLOK        Calendars & scheduling   \n",
       "2646          Date & Time     Philips Hue        Calendars & scheduling   \n",
       "2647          Date & Time           Homey        Calendars & scheduling   \n",
       "\n",
       "                    actions_category                    goal  \\\n",
       "0                           Lighting   ['Ambient Luminance']   \n",
       "1                           Lighting   ['Ambient Luminance']   \n",
       "2                           Lighting   ['Ambient Luminance']   \n",
       "3               Smart hubs & systems         ['Control Hub']   \n",
       "4                           Lighting          ['Alert User']   \n",
       "...                              ...                     ...   \n",
       "2643                        Lighting   ['Ambient Luminance']   \n",
       "2644  Routers & computer accessories          ['Alert User']   \n",
       "2645                Health & fitness               ['Other']   \n",
       "2646                        Lighting  ['Ambient Atmosphere']   \n",
       "2647            Smart hubs & systems               ['Other']   \n",
       "\n",
       "                      operation  \n",
       "0     Explicit Control (Button)  \n",
       "1                  Time Trigger  \n",
       "2               Spatial Trigger  \n",
       "3      Explicit Control (Voice)  \n",
       "4                 Other Trigger  \n",
       "...                         ...  \n",
       "2643              Other Trigger  \n",
       "2644              Other Trigger  \n",
       "2645               Time Trigger  \n",
       "2646               Time Trigger  \n",
       "2647               Time Trigger  \n",
       "\n",
       "[2648 rows x 25 columns]"
      ]
     },
     "execution_count": 2,
     "metadata": {},
     "output_type": "execute_result"
    }
   ],
   "source": [
    "df=pd.read_csv(dataset_path,skiprows=0)\n",
    "df"
   ]
  },
  {
   "cell_type": "code",
   "execution_count": 3,
   "metadata": {},
   "outputs": [
    {
     "data": {
      "text/html": [
       "<div>\n",
       "<style scoped>\n",
       "    .dataframe tbody tr th:only-of-type {\n",
       "        vertical-align: middle;\n",
       "    }\n",
       "\n",
       "    .dataframe tbody tr th {\n",
       "        vertical-align: top;\n",
       "    }\n",
       "\n",
       "    .dataframe thead th {\n",
       "        text-align: right;\n",
       "    }\n",
       "</style>\n",
       "<table border=\"1\" class=\"dataframe\">\n",
       "  <thead>\n",
       "    <tr style=\"text-align: right;\">\n",
       "      <th></th>\n",
       "      <th>name</th>\n",
       "      <th>goal</th>\n",
       "    </tr>\n",
       "  </thead>\n",
       "  <tbody>\n",
       "    <tr>\n",
       "      <th>0</th>\n",
       "      <td>Turn on/off your lights with one tap on your p...</td>\n",
       "      <td>['Ambient Luminance']</td>\n",
       "    </tr>\n",
       "    <tr>\n",
       "      <th>1</th>\n",
       "      <td>Automatically turn your lights on at sunset</td>\n",
       "      <td>['Ambient Luminance']</td>\n",
       "    </tr>\n",
       "    <tr>\n",
       "      <th>2</th>\n",
       "      <td>Turn your lights on automatically as you arriv...</td>\n",
       "      <td>['Ambient Luminance']</td>\n",
       "    </tr>\n",
       "    <tr>\n",
       "      <th>3</th>\n",
       "      <td>Tell Alexa to start a Harmony activity</td>\n",
       "      <td>['Control Hub']</td>\n",
       "    </tr>\n",
       "    <tr>\n",
       "      <th>4</th>\n",
       "      <td>Blink your Hue lights when your Amazon Alexa t...</td>\n",
       "      <td>['Alert User']</td>\n",
       "    </tr>\n",
       "    <tr>\n",
       "      <th>...</th>\n",
       "      <td>...</td>\n",
       "      <td>...</td>\n",
       "    </tr>\n",
       "    <tr>\n",
       "      <th>2643</th>\n",
       "      <td>Long press Wemo Switch = All Hue lights off</td>\n",
       "      <td>['Ambient Luminance']</td>\n",
       "    </tr>\n",
       "    <tr>\n",
       "      <th>2644</th>\n",
       "      <td>When Adafruit releases a new product, blink!</td>\n",
       "      <td>['Alert User']</td>\n",
       "    </tr>\n",
       "    <tr>\n",
       "      <th>2645</th>\n",
       "      <td>Being more productive and goal driven</td>\n",
       "      <td>['Other']</td>\n",
       "    </tr>\n",
       "    <tr>\n",
       "      <th>2646</th>\n",
       "      <td>White Light on Weekday Mornings</td>\n",
       "      <td>['Ambient Atmosphere']</td>\n",
       "    </tr>\n",
       "    <tr>\n",
       "      <th>2647</th>\n",
       "      <td>Power consumption report</td>\n",
       "      <td>['Other']</td>\n",
       "    </tr>\n",
       "  </tbody>\n",
       "</table>\n",
       "<p>2648 rows × 2 columns</p>\n",
       "</div>"
      ],
      "text/plain": [
       "                                                   name  \\\n",
       "0     Turn on/off your lights with one tap on your p...   \n",
       "1           Automatically turn your lights on at sunset   \n",
       "2     Turn your lights on automatically as you arriv...   \n",
       "3                Tell Alexa to start a Harmony activity   \n",
       "4     Blink your Hue lights when your Amazon Alexa t...   \n",
       "...                                                 ...   \n",
       "2643        Long press Wemo Switch = All Hue lights off   \n",
       "2644       When Adafruit releases a new product, blink!   \n",
       "2645              Being more productive and goal driven   \n",
       "2646                    White Light on Weekday Mornings   \n",
       "2647                           Power consumption report   \n",
       "\n",
       "                        goal  \n",
       "0      ['Ambient Luminance']  \n",
       "1      ['Ambient Luminance']  \n",
       "2      ['Ambient Luminance']  \n",
       "3            ['Control Hub']  \n",
       "4             ['Alert User']  \n",
       "...                      ...  \n",
       "2643   ['Ambient Luminance']  \n",
       "2644          ['Alert User']  \n",
       "2645               ['Other']  \n",
       "2646  ['Ambient Atmosphere']  \n",
       "2647               ['Other']  \n",
       "\n",
       "[2648 rows x 2 columns]"
      ]
     },
     "execution_count": 3,
     "metadata": {},
     "output_type": "execute_result"
    }
   ],
   "source": [
    "df=df[[\"name\",\"goal\"]]\n",
    "df"
   ]
  },
  {
   "cell_type": "code",
   "execution_count": 4,
   "metadata": {},
   "outputs": [
    {
     "data": {
      "text/plain": [
       "(\"['Ambient Atmosphere','Alert User']\", str)"
      ]
     },
     "execution_count": 4,
     "metadata": {},
     "output_type": "execute_result"
    }
   ],
   "source": [
    "df[\"goal\"].iloc[33],type(df[\"goal\"].iloc[31])"
   ]
  },
  {
   "cell_type": "code",
   "execution_count": 5,
   "metadata": {},
   "outputs": [
    {
     "name": "stderr",
     "output_type": "stream",
     "text": [
      "C:\\Users\\nicleonard\\AppData\\Local\\Temp\\ipykernel_16996\\2646672195.py:2: SettingWithCopyWarning: \n",
      "A value is trying to be set on a copy of a slice from a DataFrame.\n",
      "Try using .loc[row_indexer,col_indexer] = value instead\n",
      "\n",
      "See the caveats in the documentation: https://pandas.pydata.org/pandas-docs/stable/user_guide/indexing.html#returning-a-view-versus-a-copy\n",
      "  df[\"goal_clean\"]=df[\"goal\"].apply(lambda x:x.replace(\"[\",\"\").replace(\"]\",\"\").replace(\",\",\"\").replace(\"'\",\" \").strip())\n"
     ]
    }
   ],
   "source": [
    "#perform some string manipulation\n",
    "df[\"goal_clean\"]=df[\"goal\"].apply(lambda x:x.replace(\"[\",\"\").replace(\"]\",\"\").replace(\",\",\"\").replace(\"'\",\" \").strip())"
   ]
  },
  {
   "cell_type": "code",
   "execution_count": 6,
   "metadata": {},
   "outputs": [
    {
     "data": {
      "text/plain": [
       "('Ambient Atmosphere  Alert User', str)"
      ]
     },
     "execution_count": 6,
     "metadata": {},
     "output_type": "execute_result"
    }
   ],
   "source": [
    "df[\"goal_clean\"].iloc[33],type(df[\"goal_clean\"].iloc[31])"
   ]
  },
  {
   "cell_type": "markdown",
   "metadata": {},
   "source": [
    "### Create a dataset in the form (anchor, positive) pairs with anchor the \"name\" attribute and positive the \"goal_clean\" "
   ]
  },
  {
   "cell_type": "code",
   "execution_count": 7,
   "metadata": {},
   "outputs": [],
   "source": [
    "from datasets import Dataset\n",
    "\n",
    "anchors = []\n",
    "positives = []\n",
    "# Open a file, do preprocessing, filtering, cleaning, etc.\n",
    "# and append to the lists\n",
    "\n",
    "dataset = Dataset.from_dict({\n",
    "    \"anchor\": df[\"name\"],\n",
    "    \"positive\": df[\"goal_clean\"],\n",
    "})"
   ]
  },
  {
   "cell_type": "code",
   "execution_count": 8,
   "metadata": {},
   "outputs": [
    {
     "data": {
      "text/plain": [
       "Dataset({\n",
       "    features: ['anchor', 'positive'],\n",
       "    num_rows: 2648\n",
       "})"
      ]
     },
     "execution_count": 8,
     "metadata": {},
     "output_type": "execute_result"
    }
   ],
   "source": [
    "dataset"
   ]
  },
  {
   "cell_type": "markdown",
   "metadata": {},
   "source": [
    "### Setup the finetuning step with the simplest approach (anchor, positive)+MultipleNegativesRankingLoss\n",
    "### Other combination (dataset format + loss) can be implemented and evaluated.\n",
    "#### (anchor, positive) pairs is compatible with MultipleNegativesRankingLoss\n",
    "https://sbert.net/docs/sentence_transformer/loss_overview.html"
   ]
  },
  {
   "cell_type": "code",
   "execution_count": 9,
   "metadata": {},
   "outputs": [],
   "source": [
    "train_test_split = dataset.train_test_split(test_size=0.3, seed=42)\n",
    "\n",
    "# This will give you a dictionary with the split datasets\n",
    "train_dataset = train_test_split['train']\n",
    "test_dataset = train_test_split['test']"
   ]
  },
  {
   "cell_type": "code",
   "execution_count": 12,
   "metadata": {},
   "outputs": [
    {
     "data": {
      "text/plain": [
       "(Dataset({\n",
       "     features: ['anchor', 'positive'],\n",
       "     num_rows: 1853\n",
       " }),\n",
       " Dataset({\n",
       "     features: ['anchor', 'positive'],\n",
       "     num_rows: 795\n",
       " }))"
      ]
     },
     "execution_count": 12,
     "metadata": {},
     "output_type": "execute_result"
    }
   ],
   "source": [
    "train_dataset , test_dataset"
   ]
  },
  {
   "cell_type": "markdown",
   "metadata": {},
   "source": [
    "## Create the training setup \n",
    "steps taken from https://sbert.net/docs/sentence_transformer/training_overview.html"
   ]
  },
  {
   "cell_type": "code",
   "execution_count": 11,
   "metadata": {},
   "outputs": [],
   "source": [
    "from sentence_transformers import SentenceTransformer, SentenceTransformerTrainer, SentenceTransformerTrainingArguments\n",
    "from sentence_transformers.training_args import BatchSamplers\n",
    "# 1. Load a model to finetune with 2. (Optional) model card data\n",
    "model = SentenceTransformer(\n",
    "    \"all-mpnet-base-v2\",\n",
    "    #model_card_data=SentenceTransformerModelCardData(\n",
    "    #    language=\"en\",\n",
    "    #    license=\"apache-2.0\",\n",
    "    #    model_name=\"MPNet base trained on AllNLI triplets\",\n",
    "    #)\n",
    ")"
   ]
  },
  {
   "cell_type": "code",
   "execution_count": 13,
   "metadata": {},
   "outputs": [
    {
     "name": "stdout",
     "output_type": "stream",
     "text": [
      "SentenceTransformer(\n",
      "  (0): Transformer({'max_seq_length': 384, 'do_lower_case': False}) with Transformer model: MPNetModel \n",
      "  (1): Pooling({'word_embedding_dimension': 768, 'pooling_mode_cls_token': False, 'pooling_mode_mean_tokens': True, 'pooling_mode_max_tokens': False, 'pooling_mode_mean_sqrt_len_tokens': False, 'pooling_mode_weightedmean_tokens': False, 'pooling_mode_lasttoken': False, 'include_prompt': True})\n",
      "  (2): Normalize()\n",
      ")\n",
      "Max tokens Sequence Length: 384\n"
     ]
    }
   ],
   "source": [
    "print(model)\n",
    "print(\"Max tokens Sequence Length:\", model.max_seq_length)# (longer inputs will be truncated!)"
   ]
  },
  {
   "cell_type": "code",
   "execution_count": 16,
   "metadata": {},
   "outputs": [],
   "source": [
    "from sentence_transformers.losses import MultipleNegativesRankingLoss\n",
    "# 4. Define a loss function\n",
    "loss = MultipleNegativesRankingLoss(model)"
   ]
  },
  {
   "cell_type": "code",
   "execution_count": 17,
   "metadata": {},
   "outputs": [],
   "source": [
    "# 5. (Optional) Specify training arguments\n",
    "args = SentenceTransformerTrainingArguments(\n",
    "    # Required parameter:\n",
    "    output_dir=\"models/mpnet-base-all-nli-triplet-4ep\",\n",
    "    # Optional training parameters:\n",
    "    num_train_epochs=4,\n",
    "    per_device_train_batch_size=16,\n",
    "    per_device_eval_batch_size=16,\n",
    "    learning_rate=2e-5,\n",
    "    warmup_ratio=0.1,\n",
    "    fp16=False,  # Set to False if you get an error that your GPU can't run on FP16\n",
    "    bf16=False,  # Set to True if you have a GPU that supports BF16\n",
    "    batch_sampler=BatchSamplers.NO_DUPLICATES,  # MultipleNegativesRankingLoss benefits from no duplicate samples in a batch\n",
    "    # Optional tracking/debugging parameters:\n",
    "    eval_strategy=\"steps\",\n",
    "    eval_steps=100,\n",
    "    save_strategy=\"steps\",\n",
    "    save_steps=100,\n",
    "    save_total_limit=2,\n",
    "    logging_steps=10,\n",
    "    run_name=\"mpnet-base-all-nli-triplet\",  # Will be used in W&B if `wandb` is installed\n",
    "    optim=\"adamw_torch_fused\"                  # use fused adamw optimizer\n",
    ")"
   ]
  },
  {
   "cell_type": "code",
   "execution_count": 18,
   "metadata": {},
   "outputs": [
    {
     "data": {
      "text/html": [
       "\n",
       "    <div>\n",
       "      \n",
       "      <progress value='464' max='464' style='width:300px; height:20px; vertical-align: middle;'></progress>\n",
       "      [464/464 12:09, Epoch 3/4]\n",
       "    </div>\n",
       "    <table border=\"1\" class=\"dataframe\">\n",
       "  <thead>\n",
       " <tr style=\"text-align: left;\">\n",
       "      <th>Step</th>\n",
       "      <th>Training Loss</th>\n",
       "      <th>Validation Loss</th>\n",
       "    </tr>\n",
       "  </thead>\n",
       "  <tbody>\n",
       "    <tr>\n",
       "      <td>100</td>\n",
       "      <td>0.812400</td>\n",
       "      <td>0.545472</td>\n",
       "    </tr>\n",
       "    <tr>\n",
       "      <td>200</td>\n",
       "      <td>0.477900</td>\n",
       "      <td>0.476823</td>\n",
       "    </tr>\n",
       "    <tr>\n",
       "      <td>300</td>\n",
       "      <td>0.332100</td>\n",
       "      <td>0.464811</td>\n",
       "    </tr>\n",
       "    <tr>\n",
       "      <td>400</td>\n",
       "      <td>0.129900</td>\n",
       "      <td>0.470791</td>\n",
       "    </tr>\n",
       "  </tbody>\n",
       "</table><p>"
      ],
      "text/plain": [
       "<IPython.core.display.HTML object>"
      ]
     },
     "metadata": {},
     "output_type": "display_data"
    },
    {
     "data": {
      "application/vnd.jupyter.widget-view+json": {
       "model_id": "da195244e4134b168979cbfd72d20c81",
       "version_major": 2,
       "version_minor": 0
      },
      "text/plain": [
       "Computing widget examples:   0%|          | 0/1 [00:00<?, ?example/s]"
      ]
     },
     "metadata": {},
     "output_type": "display_data"
    },
    {
     "data": {
      "text/plain": [
       "TrainOutput(global_step=464, training_loss=0.6386170732178564, metrics={'train_runtime': 731.9068, 'train_samples_per_second': 10.127, 'train_steps_per_second': 0.634, 'total_flos': 0.0, 'train_loss': 0.6386170732178564, 'epoch': 3.9741379310344827})"
      ]
     },
     "execution_count": 18,
     "metadata": {},
     "output_type": "execute_result"
    }
   ],
   "source": [
    "# 7. Create a trainer & train\n",
    "trainer = SentenceTransformerTrainer(\n",
    "    model=model,\n",
    "    args=args,\n",
    "    train_dataset=train_dataset,\n",
    "    eval_dataset=test_dataset,\n",
    "    loss=loss,\n",
    "    #evaluator=dev_evaluator,\n",
    ")\n",
    "trainer.train()"
   ]
  },
  {
   "cell_type": "markdown",
   "metadata": {},
   "source": [
    "advice: The training show overfitting"
   ]
  },
  {
   "cell_type": "code",
   "execution_count": 19,
   "metadata": {},
   "outputs": [],
   "source": [
    "# 8. Save the trained model\n",
    "model.save_pretrained(args.output_dir+\"/final\")"
   ]
  },
  {
   "cell_type": "code",
   "execution_count": 20,
   "metadata": {},
   "outputs": [],
   "source": [
    "#save the model in the root folder (just for a simpler path)\n",
    "trainer.save_model()"
   ]
  },
  {
   "cell_type": "code",
   "execution_count": 25,
   "metadata": {},
   "outputs": [],
   "source": [
    "# 9. (Optional) Push it to the Hugging Face Hub\n",
    "#model.push_to_hub(\"mpnet-base-all-nli-triplet-TAP\")"
   ]
  },
  {
   "cell_type": "markdown",
   "metadata": {},
   "source": [
    "##  Get the finetuned model back"
   ]
  },
  {
   "cell_type": "code",
   "execution_count": 21,
   "metadata": {},
   "outputs": [
    {
     "data": {
      "text/plain": [
       "(SentenceTransformerTrainingArguments(output_dir='models/mpnet-base-all-nli-triplet-4ep', overwrite_output_dir=False, do_train=False, do_eval=True, do_predict=False, eval_strategy=<IntervalStrategy.STEPS: 'steps'>, prediction_loss_only=True, per_device_train_batch_size=16, per_device_eval_batch_size=16, per_gpu_train_batch_size=None, per_gpu_eval_batch_size=None, gradient_accumulation_steps=1, eval_accumulation_steps=None, eval_delay=0, torch_empty_cache_steps=None, learning_rate=2e-05, weight_decay=0.0, adam_beta1=0.9, adam_beta2=0.999, adam_epsilon=1e-08, max_grad_norm=1.0, num_train_epochs=4, max_steps=-1, lr_scheduler_type=<SchedulerType.LINEAR: 'linear'>, lr_scheduler_kwargs={}, warmup_ratio=0.1, warmup_steps=0, log_level='passive', log_level_replica='warning', log_on_each_node=True, logging_dir='models/mpnet-base-all-nli-triplet-4ep\\\\runs\\\\Jan25_17-32-18_NICLEONARDW', logging_strategy=<IntervalStrategy.STEPS: 'steps'>, logging_first_step=False, logging_steps=10, logging_nan_inf_filter=True, save_strategy=<SaveStrategy.STEPS: 'steps'>, save_steps=100, save_total_limit=2, save_safetensors=True, save_on_each_node=False, save_only_model=False, restore_callback_states_from_checkpoint=False, no_cuda=False, use_cpu=False, use_mps_device=False, seed=42, data_seed=None, jit_mode_eval=False, use_ipex=False, bf16=False, fp16=False, fp16_opt_level='O1', half_precision_backend='auto', bf16_full_eval=False, fp16_full_eval=False, tf32=None, local_rank=0, ddp_backend=None, tpu_num_cores=None, tpu_metrics_debug=False, debug=[], dataloader_drop_last=False, eval_steps=100, dataloader_num_workers=0, dataloader_prefetch_factor=None, past_index=-1, run_name='mpnet-base-all-nli-triplet', disable_tqdm=False, remove_unused_columns=True, label_names=None, load_best_model_at_end=False, metric_for_best_model=None, greater_is_better=None, ignore_data_skip=False, fsdp=[], fsdp_min_num_params=0, fsdp_config={'min_num_params': 0, 'xla': False, 'xla_fsdp_v2': False, 'xla_fsdp_grad_ckpt': False}, fsdp_transformer_layer_cls_to_wrap=None, accelerator_config=AcceleratorConfig(split_batches=False, dispatch_batches=None, even_batches=True, use_seedable_sampler=True, non_blocking=False, gradient_accumulation_kwargs=None, use_configured_state=False), deepspeed=None, label_smoothing_factor=0.0, optim=<OptimizerNames.ADAMW_TORCH_FUSED: 'adamw_torch_fused'>, optim_args=None, adafactor=False, group_by_length=False, length_column_name='length', report_to=[], ddp_find_unused_parameters=None, ddp_bucket_cap_mb=None, ddp_broadcast_buffers=False, dataloader_pin_memory=True, dataloader_persistent_workers=False, skip_memory_metrics=True, use_legacy_prediction_loop=False, push_to_hub=False, resume_from_checkpoint=None, hub_model_id=None, hub_strategy=<HubStrategy.EVERY_SAVE: 'every_save'>, hub_token=None, hub_private_repo=None, hub_always_push=False, gradient_checkpointing=False, gradient_checkpointing_kwargs=None, include_inputs_for_metrics=False, include_for_metrics=[], eval_do_concat_batches=True, fp16_backend='auto', evaluation_strategy=None, push_to_hub_model_id=None, push_to_hub_organization=None, push_to_hub_token=None, mp_parameters='', auto_find_batch_size=False, full_determinism=False, torchdynamo=None, ray_scope='last', ddp_timeout=1800, torch_compile=False, torch_compile_backend=None, torch_compile_mode=None, dispatch_batches=None, split_batches=None, include_tokens_per_second=False, include_num_input_tokens_seen=False, neftune_noise_alpha=None, optim_target_modules=None, batch_eval_metrics=False, eval_on_start=False, use_liger_kernel=False, eval_use_gather_object=False, average_tokens_across_devices=False, prompts=None, batch_sampler=<BatchSamplers.NO_DUPLICATES: 'no_duplicates'>, multi_dataset_batch_sampler=<MultiDatasetBatchSamplers.PROPORTIONAL: 'proportional'>),\n",
       " 'models/mpnet-base-all-nli-triplet-4ep')"
      ]
     },
     "execution_count": 21,
     "metadata": {},
     "output_type": "execute_result"
    }
   ],
   "source": [
    "args,args.output_dir"
   ]
  },
  {
   "cell_type": "code",
   "execution_count": 22,
   "metadata": {},
   "outputs": [],
   "source": [
    "fine_tuned_model = SentenceTransformer(\n",
    "    args.output_dir, device=\"cuda\" if torch.cuda.is_available() else \"cpu\"\n",
    ")"
   ]
  },
  {
   "cell_type": "code",
   "execution_count": 23,
   "metadata": {},
   "outputs": [
    {
     "data": {
      "text/plain": [
       "SentenceTransformer(\n",
       "  (0): Transformer({'max_seq_length': 384, 'do_lower_case': False}) with Transformer model: MPNetModel \n",
       "  (1): Pooling({'word_embedding_dimension': 768, 'pooling_mode_cls_token': False, 'pooling_mode_mean_tokens': True, 'pooling_mode_max_tokens': False, 'pooling_mode_mean_sqrt_len_tokens': False, 'pooling_mode_weightedmean_tokens': False, 'pooling_mode_lasttoken': False, 'include_prompt': True})\n",
       "  (2): Normalize()\n",
       ")"
      ]
     },
     "execution_count": 23,
     "metadata": {},
     "output_type": "execute_result"
    }
   ],
   "source": [
    "fine_tuned_model"
   ]
  }
 ],
 "metadata": {
  "kernelspec": {
   "display_name": "Python 3",
   "language": "python",
   "name": "python3"
  },
  "language_info": {
   "codemirror_mode": {
    "name": "ipython",
    "version": 3
   },
   "file_extension": ".py",
   "mimetype": "text/x-python",
   "name": "python",
   "nbconvert_exporter": "python",
   "pygments_lexer": "ipython3",
   "version": "3.10.16"
  }
 },
 "nbformat": 4,
 "nbformat_minor": 2
}
